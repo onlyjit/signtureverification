{
 "cells": [
  {
   "cell_type": "code",
   "execution_count": 1,
   "id": "58e396eb",
   "metadata": {},
   "outputs": [],
   "source": [
    "import numpy as np\n",
    "import pandas as pd\n",
    "import matplotlib.pyplot as plt\n",
    "import cv2\n",
    "import os\n",
    "from sklearn.model_selection import train_test_split\n",
    "import tensorflow as tf\n",
    "from tensorflow.keras.layers import Conv2D, MaxPooling2D, Dense, Flatten, Dropout\n",
    "from tensorflow.keras.models import Sequential\n",
    "from tensorflow.keras.preprocessing.image import ImageDataGenerator"
   ]
  },
  {
   "cell_type": "code",
   "execution_count": 2,
   "id": "d487a3c6",
   "metadata": {},
   "outputs": [],
   "source": [
    "real_path = 'original'\n",
    "forge_path = 'fraud'\n",
    "\n",
    "real_images = []\n",
    "for img_name in os.listdir(real_path):\n",
    "    img = cv2.imread(os.path.join(real_path, img_name), cv2.IMREAD_GRAYSCALE)\n",
    "    real_images.append(img)\n",
    "real_images = np.array(real_images, dtype=object)\n",
    "\n",
    "forge_images = []\n",
    "for img_name in os.listdir(forge_path):\n",
    "    img = cv2.imread(os.path.join(forge_path, img_name), cv2.IMREAD_GRAYSCALE)\n",
    "    forge_images.append(img)\n",
    "forge_images = np.array(forge_images, dtype=object)"
   ]
  },
  {
   "cell_type": "code",
   "execution_count": 3,
   "id": "32d0f7a7",
   "metadata": {},
   "outputs": [],
   "source": [
    "real_labels = np.zeros(real_images.shape[0])\n",
    "forge_labels = np.ones(forge_images.shape[0])\n",
    "\n",
    "X = np.concatenate((real_images, forge_images), axis=0)\n",
    "y = np.concatenate((real_labels, forge_labels), axis=0)\n",
    "\n",
    "X_train, X_test, y_train, y_test = train_test_split(X, y, test_size=0.2, random_state=40)"
   ]
  },
  {
   "cell_type": "code",
   "execution_count": 9,
   "id": "40bdd5b3",
   "metadata": {},
   "outputs": [],
   "source": [
    "import cv2\n",
    "import numpy as np\n",
    "\n",
    "# load the dataset\n",
    "real_path = 'original'\n",
    "forge_path = 'fraud'\n",
    "\n",
    "# set the image size to 128x128\n",
    "img_size = (128, 128)\n",
    "\n",
    "real_images = []\n",
    "for img_name in os.listdir(real_path):\n",
    "    img = cv2.imread(os.path.join(real_path, img_name), cv2.IMREAD_GRAYSCALE)\n",
    "    img = cv2.resize(img, img_size)\n",
    "    real_images.append(img)\n",
    "real_images = np.array(real_images)\n",
    "\n",
    "forge_images = []\n",
    "for img_name in os.listdir(forge_path):\n",
    "    img = cv2.imread(os.path.join(forge_path, img_name), cv2.IMREAD_GRAYSCALE)\n",
    "    img = cv2.resize(img, img_size)\n",
    "    forge_images.append(img)\n",
    "forge_images = np.array(forge_images)\n",
    "\n",
    "# normalize the data\n",
    "real_images = real_images.astype('float32') / 255.0\n",
    "forge_images = forge_images.astype('float32') / 255.0"
   ]
  },
  {
   "cell_type": "code",
   "execution_count": 10,
   "id": "0aede914",
   "metadata": {},
   "outputs": [],
   "source": [
    "import numpy as np\n",
    "\n",
    "num_real_images = len(real_images)\n",
    "num_forge_images = len(forge_images)\n",
    "\n",
    "# Create labels for the real and forged signatures\n",
    "real_labels = np.zeros(num_real_images, dtype=int)\n",
    "forge_labels = np.ones(num_forge_images, dtype=int)\n",
    "\n",
    "# Concatenate the real and forged images and labels\n",
    "X = np.concatenate((real_images, forge_images), axis=0)\n",
    "y = np.concatenate((real_labels, forge_labels), axis=0)"
   ]
  },
  {
   "cell_type": "code",
   "execution_count": 11,
   "id": "8c8a7f6d",
   "metadata": {},
   "outputs": [
    {
     "name": "stdout",
     "output_type": "stream",
     "text": [
      "(40, 128, 128, 1)\n"
     ]
    }
   ],
   "source": [
    "import numpy as np\n",
    "\n",
    "# create dummy data\n",
    "X_train = np.random.rand(40, 128, 128)\n",
    "\n",
    "# add another dimension to the array\n",
    "X_train = np.expand_dims(X_train, axis=-1)\n",
    "\n",
    "# reshape the array\n",
    "X_train = X_train.reshape(X_train.shape[0], 128, 128, 1)\n",
    "\n",
    "print(X_train.shape)  # output: (40, 128, 128, 1)"
   ]
  },
  {
   "cell_type": "code",
   "execution_count": 12,
   "id": "56750903",
   "metadata": {},
   "outputs": [
    {
     "name": "stdout",
     "output_type": "stream",
     "text": [
      "Model: \"sequential_1\"\n",
      "_________________________________________________________________\n",
      " Layer (type)                Output Shape              Param #   \n",
      "=================================================================\n",
      " conv2d_2 (Conv2D)           (None, 126, 126, 32)      320       \n",
      "                                                                 \n",
      " max_pooling2d_2 (MaxPooling  (None, 63, 63, 32)       0         \n",
      " 2D)                                                             \n",
      "                                                                 \n",
      " conv2d_3 (Conv2D)           (None, 61, 61, 64)        18496     \n",
      "                                                                 \n",
      " max_pooling2d_3 (MaxPooling  (None, 30, 30, 64)       0         \n",
      " 2D)                                                             \n",
      "                                                                 \n",
      " flatten_1 (Flatten)         (None, 57600)             0         \n",
      "                                                                 \n",
      " dense_2 (Dense)             (None, 128)               7372928   \n",
      "                                                                 \n",
      " dropout_1 (Dropout)         (None, 128)               0         \n",
      "                                                                 \n",
      " dense_3 (Dense)             (None, 1)                 129       \n",
      "                                                                 \n",
      "=================================================================\n",
      "Total params: 7,391,873\n",
      "Trainable params: 7,391,873\n",
      "Non-trainable params: 0\n",
      "_________________________________________________________________\n"
     ]
    }
   ],
   "source": [
    "from tensorflow.keras.models import Sequential\n",
    "from tensorflow.keras.layers import Conv2D, MaxPooling2D, Flatten, Dense, Dropout\n",
    "\n",
    "# Create a Sequential model\n",
    "model = Sequential()\n",
    "\n",
    "# Add a convolutional layer\n",
    "model.add(Conv2D(filters=32, kernel_size=(3,3), activation='relu', input_shape=(128, 128, 1)))\n",
    "\n",
    "# Add a max pooling layer\n",
    "model.add(MaxPooling2D(pool_size=(2,2)))\n",
    "\n",
    "# Add another convolutional layer\n",
    "model.add(Conv2D(filters=64, kernel_size=(3,3), activation='relu'))\n",
    "\n",
    "# Add another max pooling layer\n",
    "model.add(MaxPooling2D(pool_size=(2,2)))\n",
    "\n",
    "# Flatten the output from the convolutional layers\n",
    "model.add(Flatten())\n",
    "\n",
    "# Add a fully connected layer with 128 neurons and a relu activation function\n",
    "model.add(Dense(units=128, activation='relu'))\n",
    "\n",
    "# Add a dropout layer to reduce overfitting\n",
    "model.add(Dropout(rate=0.5))\n",
    "\n",
    "# Add the output layer with a sigmoid activation function\n",
    "model.add(Dense(units=1, activation='sigmoid'))\n",
    "\n",
    "# Print a summary of the model architecture\n",
    "model.summary()"
   ]
  },
  {
   "cell_type": "code",
   "execution_count": 13,
   "id": "976add47",
   "metadata": {},
   "outputs": [
    {
     "name": "stdout",
     "output_type": "stream",
     "text": [
      "Epoch 1/12\n",
      "8/8 [==============================] - 0s 33ms/step - loss: 1.2556 - accuracy: 0.4375 - val_loss: 0.6942 - val_accuracy: 0.3750\n",
      "Epoch 2/12\n",
      "8/8 [==============================] - 0s 26ms/step - loss: 0.6657 - accuracy: 0.5312 - val_loss: 0.6794 - val_accuracy: 0.7500\n",
      "Epoch 3/12\n",
      "8/8 [==============================] - 0s 26ms/step - loss: 0.6841 - accuracy: 0.4688 - val_loss: 0.6818 - val_accuracy: 0.3750\n",
      "Epoch 4/12\n",
      "8/8 [==============================] - 0s 26ms/step - loss: 0.6715 - accuracy: 0.6875 - val_loss: 0.6478 - val_accuracy: 0.3750\n",
      "Epoch 5/12\n",
      "8/8 [==============================] - 0s 26ms/step - loss: 0.6140 - accuracy: 0.6250 - val_loss: 0.5508 - val_accuracy: 1.0000\n",
      "Epoch 6/12\n",
      "8/8 [==============================] - 0s 27ms/step - loss: 0.5204 - accuracy: 0.7812 - val_loss: 0.4422 - val_accuracy: 1.0000\n",
      "Epoch 7/12\n",
      "8/8 [==============================] - 0s 27ms/step - loss: 0.3805 - accuracy: 0.8750 - val_loss: 0.3490 - val_accuracy: 0.8750\n",
      "Epoch 8/12\n",
      "8/8 [==============================] - 0s 26ms/step - loss: 0.3872 - accuracy: 0.8438 - val_loss: 0.5305 - val_accuracy: 0.5000\n",
      "Epoch 9/12\n",
      "8/8 [==============================] - 0s 26ms/step - loss: 0.1820 - accuracy: 0.9375 - val_loss: 0.1316 - val_accuracy: 1.0000\n",
      "Epoch 10/12\n",
      "8/8 [==============================] - 0s 26ms/step - loss: 0.1742 - accuracy: 0.8750 - val_loss: 0.3634 - val_accuracy: 0.7500\n",
      "Epoch 11/12\n",
      "8/8 [==============================] - 0s 26ms/step - loss: 0.1149 - accuracy: 0.9688 - val_loss: 0.1429 - val_accuracy: 1.0000\n",
      "Epoch 12/12\n",
      "8/8 [==============================] - 0s 26ms/step - loss: 0.0512 - accuracy: 1.0000 - val_loss: 0.0682 - val_accuracy: 1.0000\n"
     ]
    }
   ],
   "source": [
    "from sklearn.model_selection import train_test_split\n",
    "\n",
    "X_train, X_test, y_train, y_test = train_test_split(X, y, test_size=0.2, random_state=30)\n",
    "\n",
    "model.compile(optimizer='adam', loss='binary_crossentropy', metrics=['accuracy'])\n",
    "\n",
    "history = model.fit(X_train, y_train, batch_size=4, epochs=12, validation_data=(X_test, y_test))"
   ]
  },
  {
   "cell_type": "code",
   "execution_count": 14,
   "id": "917bc180",
   "metadata": {},
   "outputs": [
    {
     "name": "stdout",
     "output_type": "stream",
     "text": [
      "1/1 [==============================] - 0s 79ms/step - loss: 0.0682 - accuracy: 1.0000\n",
      "Test accuracy: 1.0\n",
      "Test loss: 0.06816843152046204\n"
     ]
    }
   ],
   "source": [
    "test_loss, test_acc = model.evaluate(X_test, y_test)\n",
    "print(\"Test accuracy:\", test_acc)\n",
    "print(\"Test loss:\", test_loss)"
   ]
  },
  {
   "cell_type": "code",
   "execution_count": 15,
   "id": "c74b75c5",
   "metadata": {},
   "outputs": [
    {
     "name": "stdout",
     "output_type": "stream",
     "text": [
      "1/1 [==============================] - 0s 56ms/step\n",
      "The signature is forged.\n"
     ]
    }
   ],
   "source": [
    "# Load a signature image\n",
    "# You can change the image path and check if it is forged or real\n",
    "img = cv2.imread('fraud/agh2fraud_1.jpg', cv2.IMREAD_GRAYSCALE)\n",
    "img = cv2.resize(img, (128, 128))\n",
    "img = np.array(img).reshape(1, 128, 128, 1) / 255.0\n",
    "\n",
    "# Predict the class of the signature image\n",
    "prediction = model.predict(img)\n",
    "\n",
    "if prediction < 0.5:\n",
    "    print(\"The signature is real.\")\n",
    "else:\n",
    "    print(\"The signature is forged.\")"
   ]
  },
  {
   "cell_type": "code",
   "execution_count": 66,
   "id": "267c7e18",
   "metadata": {},
   "outputs": [],
   "source": [
    "import pickle\n",
    "model.save(\"signature.h5\")"
   ]
  },
  {
   "cell_type": "code",
   "execution_count": null,
   "id": "c9ea093a",
   "metadata": {},
   "outputs": [],
   "source": []
  },
  {
   "cell_type": "code",
   "execution_count": null,
   "id": "1f2b62b7-433f-4cfb-aad3-0b87978ee61b",
   "metadata": {},
   "outputs": [],
   "source": []
  }
 ],
 "metadata": {
  "kernelspec": {
   "display_name": "testenv",
   "language": "python",
   "name": "testenv"
  },
  "language_info": {
   "codemirror_mode": {
    "name": "ipython",
    "version": 3
   },
   "file_extension": ".py",
   "mimetype": "text/x-python",
   "name": "python",
   "nbconvert_exporter": "python",
   "pygments_lexer": "ipython3",
   "version": "3.11.4"
  }
 },
 "nbformat": 4,
 "nbformat_minor": 5
}
